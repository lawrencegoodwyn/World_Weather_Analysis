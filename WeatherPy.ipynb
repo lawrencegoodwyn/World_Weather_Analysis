{
 "cells": [
  {
   "cell_type": "code",
   "execution_count": 1,
   "id": "301f39e8",
   "metadata": {},
   "outputs": [],
   "source": [
    "# Import the dependencies.\n",
    "import pandas as pd\n",
    "import matplotlib.pyplot as plt\n",
    "import numpy as np"
   ]
  },
  {
   "cell_type": "code",
   "execution_count": 2,
   "id": "968342c5",
   "metadata": {},
   "outputs": [
    {
     "data": {
      "text/plain": [
       "<zip at 0x7f890f26fd40>"
      ]
     },
     "execution_count": 2,
     "metadata": {},
     "output_type": "execute_result"
    }
   ],
   "source": [
    "# Create a set of random latitude and longitude combinations.\n",
    "lats = np.random.uniform(low=-90.000, high=90.000, size=1500)\n",
    "lngs = np.random.uniform(low=-180.000, high=180.000, size=1500)\n",
    "lat_lngs = zip(lats, lngs)\n",
    "lat_lngs"
   ]
  },
  {
   "cell_type": "code",
   "execution_count": 3,
   "id": "91deeb99",
   "metadata": {},
   "outputs": [],
   "source": [
    "# Add the latitudes and longitudes to a list.\n",
    "coordinates = list(lat_lngs)"
   ]
  },
  {
   "cell_type": "code",
   "execution_count": 4,
   "id": "4ad97a6c",
   "metadata": {},
   "outputs": [],
   "source": [
    "from citipy import citipy"
   ]
  },
  {
   "cell_type": "code",
   "execution_count": 5,
   "id": "c1335bca",
   "metadata": {},
   "outputs": [
    {
     "data": {
      "text/plain": [
       "614"
      ]
     },
     "execution_count": 5,
     "metadata": {},
     "output_type": "execute_result"
    }
   ],
   "source": [
    "# Create a list for holding the cities.\n",
    "cities = []\n",
    "# Identify the nearest city for each latitude and longitude combination.\n",
    "for coordinate in coordinates:\n",
    "    city = citipy.nearest_city(coordinate[0], coordinate[1]).city_name\n",
    "\n",
    "    # If the city is unique, then we will add it to the cities list.\n",
    "    if city not in cities:\n",
    "        cities.append(city)\n",
    "# Print the city count to confirm sufficient count.\n",
    "len(cities)"
   ]
  },
  {
   "cell_type": "code",
   "execution_count": 6,
   "id": "d76bb31c",
   "metadata": {},
   "outputs": [
    {
     "name": "stdout",
     "output_type": "stream",
     "text": [
      "['bambous virieux', 'clyde river', 'bluff', 'chokurdakh', 'rikitea', 'ketchikan', 'saint anthony', 'kapaa', 'botro', 'hermanus', 'thompson', 'whitianga', 'port-de-bouc', 'talara', 'busselton', 'luena', 'basco', 'pak kret', 'tuktoyaktuk', 'vaini', 'taolanaro', 'vanavara', 'avarua', 'mar del plata', 'mudyuga', 'mataura', 'upernavik', 'ushuaia', 'eureka', 'srednekolymsk', 'opuwo', 'richards bay', 'bathsheba', 'alta floresta', 'airai', 'carnarvon', 'louisbourg', 'hilo', 'kavaratti', 'kruisfontein', 'zeya', 'jamestown', 'paris', 'bethel', 'norman wells', 'khanion tou kokkini', 'watertown', 'illoqqortoormiut', 'tiarei', 'cape town', 'amderma', 'lebu', 'marcona', 'atar', 'mys shmidta', 'itoman', 'lasa', 'port elizabeth', 'yellowknife', 'castro', 'tilichiki', 'temaraia', 'cabo san lucas', 'faanui', 'albany', 'atuona', 'bolobo', 'new norfolk', 'monrovia', 'khatanga', 'sambava', 'korocha', 'chupaca', 'the valley', 'parnarama', 'coihaique', 'west wendover', 'pangnirtung', 'erenhot', 'praya', 'ban nahin', 'lavrentiya', 'wad madani', 'tura', 'puerto ayora', 'duldurga', 'bonfim', 'dong xoai', 'pacocha', 'naze', 'chuy', 'hay river', 'barbar', 'la joya', 'grand river south east', 'dikson', 'perth', 'luanda', 'grindavik', 'tsihombe', 'port alfred', 'kununurra', 'hami', 'whitehorse', 'saint-philippe', 'qaqortoq', 'punta arenas', 'marzuq', 'tasiilaq', 'kaitong', 'saskylakh', 'half moon bay', 'hailar', 'hobart', 'roald', 'shu', 'sudbury', 'anadyr', 'loiza', 'urengoy', 'puerto quijarro', 'hasaki', 'upata', 'abaza', 'pisco', 'torbay', 'hithadhoo', 'bur gabo', 'santa cruz', 'sentyabrskiy', 'mamlyutka', 'salalah', 'cap malheureux', 'mount gambier', 'fortuna foothills', 'nanortalik', 'isakly', 'rondonopolis', 'oranjemund', 'kampar', 'remedios', 'puerto penasco', 'lompoc', 'kautokeino', 'kaitangata', 'danielskuil', 'attawapiskat', 'tigil', 'sao filipe', 'arraial do cabo', 'kavieng', 'esperance', 'vilyuysk', 'cayenne', 'cockburn town', 'svetlogorsk', 'pevek', 'barentsburg', 'trinidad', 'lesozavodsk', 'salvador', 'nuevo progreso', 'butaritari', 'kitimat', 'masumbwe', 'bay roberts', 'damietta', 'lorengau', 'souillac', 'fairbanks', 'westport', 'kodiak', 'dingle', 'pochutla', 'mpraeso', 'chagda', 'leh', 'alotau', 'sakaiminato', 'kandrian', 'changde', 'victoria', 'chifeng', 'nemuro', 'muros', 'one hundred mile house', 'namibe', 'iqaluit', 'kazalinsk', 'tiksi', 'sorvag', 'lincoln', 'belushya guba', 'goderich', 'palabuhanratu', 'sao miguel', 'tuatapere', 'te anau', 'ler', 'aflu', 'kotelnich', 'mahebourg', 'nyimba', 'haverfordwest', 'kindu', 'bubaque', 'olafsvik', 'jardim', 'klaksvik', 'guarumal', 'palmer', 'asau', 'narsaq', 'harper', 'ranong', 'zhuzhou', 'boende', 'bengkulu', 'hamilton', 'kargasok', 'adrar', 'finschhafen', 'ponta do sol', 'vila velha', 'ust-kamchatsk', 'thinadhoo', 'bredasdorp', 'yeniseysk', 'nikolskoye', 'alekseyevsk', 'antipovka', 'cherskiy', 'leningradskiy', 'shestakovo', 'luderitz', 'manta', 'sjovegan', 'kristiinankaupunki', 'moron', 'nelson bay', 'ust-tarka', 'sabzevar', 'grand forks', 'saldanha', 'katsuura', 'ca mau', 'meulaboh', 'mehamn', 'midland', 'georgetown', 'rush', 'umzimvubu', 'sangre grande', 'east london', 'bismarck', 'pangai', 'bequimao', 'puente grande', 'warwick', 'north platte', 'axim', 'tiznit', 'dunda', 'elizabeth city', 'gayeri', 'tuxpan', 'dobrinka', 'ribeira grande', 'ancud', 'evensk', 'yumen', 'severo-kurilsk', 'kirakira', 'koboldo', 'zolotinka', 'kupang', 'rafaela', 'port lincoln', 'mogadouro', 'biscarrosse', 'acapulco', 'urumqi', 'rio gallegos', 'talnakh', 'longyearbyen', 'nizhneyansk', 'gopalpur', 'rovaniemi', 'barrow', 'asfi', 'manadhoo', 'visby', 'maragogi', 'vao', 'ulaangom', 'lagoa', 'krasnoslobodsk', 'hervey bay', 'garowe', 'kuche', 'beloha', 'katherine', 'turukhansk', 'roma', 'mayo', 'fortuna', 'henties bay', 'ilulissat', 'hambantota', 'dhidhdhoo', 'obo', 'ushtobe', 'nicoya', 'arroyo', 'charters towers', 'sohna', 'tshikapa', 'mogadishu', 'saleaula', 'saint george', 'vestmannaeyjar', 'shaowu', 'mizdah', 'mantua', 'sisimiut', 'chepareria', 'krasnoarmeysk', 'palu', 'otjimbingwe', 'yerbogachen', 'ventspils', 'margherita', 'flinders', 'sept-iles', 'lac du bonnet', 'gat', 'tiszalok', 'san juan', 'geraldton', 'samarai', 'kendari', 'grand centre', 'nador', 'onguday', 'beringovskiy', 'helena', 'sawtell', 'ambulu', 'kusk', 'hoa binh', 'qasigiannguit', 'broken hill', 'mount isa', 'gillette', 'raton', 'quelimane', 'manitouwadge', 'katesh', 'jiuquan', 'marrakesh', 'qaanaaq', 'lucena', 'muisne', 'codrington', 'ahipara', 'pokhara', 'suoyarvi', 'sokolovo', 'cairns', 'tabiauea', 'bolu', 'san felipe', 'baykit', 'haines junction', 'yar-sale', 'zhongshu', 'zaidpur', 'le port', 'pringsewu', 'tambo', 'sovetskiy', 'tual', 'chapada dos guimaraes', 'sorland', 'cidreira', 'hackettstown', 'lethem', 'nome', 'udachnyy', 'bairiki', 'ugoofaaru', 'chilliwack', 'grand gaube', 'kulhudhuffushi', 'cabadiangan', 'lata', 'hofn', 'tarakan', 'nadym', 'waingapu', 'amos', 'vega de alatorre', 'padilla', 'bafq', 'hoquiam', 'magomeni', 'deputatskiy', 'kalengwa', 'guerrero negro', 'plettenberg bay', 'provideniya', 'matamoros', 'ambon', 'callaway', 'tezu', 'cayeli', 'puerto leguizamo', 'lumeje', 'camana', 'yulara', 'lufilufi', 'jiaojiang', 'tokmak', 'gloversville', 'civitanova marche', 'boguchany', 'potgietersrus', 'vardo', 'marawi', 'bagdarin', 'ponta delgada', 'ekibastuz', 'warrnambool', 'bardiyah', 'pundaguitan', 'xining', 'egvekinot', 'caravelas', 'nago', 'joensuu', 'cabedelo', 'san patricio', 'kalyny', 'acari', 'rajaldesar', 'lhokseumawe', 'quatre cocos', 'poum', 'brisbane', 'akdepe', 'padang', 'praia da vitoria', 'skibbereen', 'etawah', 'kingman', 'mergui', 'sinnamary', 'kostino', 'waipawa', 'ostrovnoy', 'panaba', 'aksarka', 'kahului', 'bitkine', 'vostochnyy', 'wanning', 'zuwarah', 'zhuhai', 'tres arroyos', 'tambacounda', 'tautira', 'grande-riviere', 'dauriya', 'nantucket', 'bouca', 'raudeberg', 'shalakusha', 'kaisiadorys', 'vostok', 'prado', 'port moresby', 'pakxan', 'vila', 'malwan', 'sahuaripa', 'olawa', 'ous', 'hyeres', 'banloc', 'maimon', 'marinette', 'luziania', 'salinas', 'ruatoria', 'santa pola', 'sinop', 'russell', 'astoria', 'nalut', 'tucumcari', 'conde', 'kushmurun', 'mansa', 'pimentel', 'darhan', 'kabwe', 'dunedin', 'karlskrona', 'mahon', 'batagay', 'vinh', 'nikaia', 'zhanatas', 'kangaatsiaq', 'kembolcha', 'anchorage', 'dashitou', 'ozgon', 'dabat', 'xichang', 'saint-louis', 'olbia', 'margate', 'shadegan', 'marsa matruh', 'massakory', 'camacha', 'juneau', 'yanam', 'nikki', 'alvorada', 'bereda', 'hualmay', 'sechura', 'diamantino', 'ngukurr', 'gigmoto', 'rocha', 'tidore', 'dawei', 'sangar', 'pacific grove', 'sitka', 'lusambo', 'zheleznodorozhnyy', 'meyungs', 'avera', 'vaitupu', 'tsabong', 'aragarcas', 'baniyas', 'moroni', 'mozhaysk', 'kieta', 'umm lajj', 'auki', 'north bend', 'bria', 'coracora', 'warqla', 'broome', 'warrensburg', 'tocopilla', 'taksimo', 'rawson', 'along', 'hearst', 'mishan', 'okha', 'soyo', 'sao joao da barra', 'shibganj', 'chicama', 'wulanhaote', 'kedzierzyn-kozle', 'doctor juan manuel frutos', 'pauini', 'banjar', 'daru', 'huarmey', 'lakselv', 'bealanana', 'khonuu', 'la paz', 'xuddur', 'stornoway', 'artyk', 'ixtapa', 'golden', 'puerto baquerizo moreno', 'isangel', 'touros', 'parana', 'grootfontein', 'port macquarie', 'sur', 'marsabit', 'agirish', 'sao gabriel da cachoeira', 'oktyabrskiy', 'itarema', 'ulladulla', 'awbari', 'blackwater', 'alyangula', 'new glasgow', 'aklavik', 'ingleside', 'sinkat', 'severnyy', 'kawalu', 'batemans bay', 'bocaranga', 'sheksna']\n"
     ]
    }
   ],
   "source": [
    "print(cities)"
   ]
  },
  {
   "cell_type": "code",
   "execution_count": null,
   "id": "913c7f45",
   "metadata": {},
   "outputs": [],
   "source": []
  }
 ],
 "metadata": {
  "kernelspec": {
   "display_name": "PythonData",
   "language": "python",
   "name": "pythondata"
  },
  "language_info": {
   "codemirror_mode": {
    "name": "ipython",
    "version": 3
   },
   "file_extension": ".py",
   "mimetype": "text/x-python",
   "name": "python",
   "nbconvert_exporter": "python",
   "pygments_lexer": "ipython3",
   "version": "3.8.8"
  }
 },
 "nbformat": 4,
 "nbformat_minor": 5
}
